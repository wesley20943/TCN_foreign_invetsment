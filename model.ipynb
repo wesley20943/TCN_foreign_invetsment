{
 "cells": [
  {
   "cell_type": "code",
   "execution_count": 54,
   "metadata": {},
   "outputs": [],
   "source": [
    "from tcn import compiled_tcn\n",
    "from sklearn.model_selection import train_test_split\n",
    "\n",
    "import numpy as np\n",
    "import pandas as pd\n",
    "import h5py"
   ]
  },
  {
   "cell_type": "code",
   "execution_count": 71,
   "metadata": {},
   "outputs": [],
   "source": [
    "with h5py.File('X_train.h5', 'r') as hf:\n",
    "    X = hf['X_train'][:]\n",
    "\n",
    "with h5py.File('Y_train.h5', 'r') as hf:\n",
    "    Y = hf['Y_train'][:]"
   ]
  },
  {
   "cell_type": "code",
   "execution_count": 72,
   "metadata": {},
   "outputs": [
    {
     "data": {
      "text/plain": [
       "(77526, 15, 28)"
      ]
     },
     "execution_count": 72,
     "metadata": {},
     "output_type": "execute_result"
    }
   ],
   "source": [
    "X.shape"
   ]
  },
  {
   "cell_type": "code",
   "execution_count": 73,
   "metadata": {},
   "outputs": [],
   "source": [
    "X[np.isnan(X)] = 0"
   ]
  },
  {
   "cell_type": "code",
   "execution_count": 58,
   "metadata": {},
   "outputs": [
    {
     "data": {
      "text/plain": [
       "(77526, 1)"
      ]
     },
     "execution_count": 58,
     "metadata": {},
     "output_type": "execute_result"
    }
   ],
   "source": [
    "Y.shape"
   ]
  },
  {
   "cell_type": "code",
   "execution_count": 74,
   "metadata": {},
   "outputs": [],
   "source": [
    "X_train, X_test, Y_train, Y_test = train_test_split(X, Y, test_size=0.3, random_state=87)\n"
   ]
  },
  {
   "cell_type": "code",
   "execution_count": 60,
   "metadata": {},
   "outputs": [
    {
     "data": {
      "text/plain": [
       "(54268, 15, 28)"
      ]
     },
     "execution_count": 60,
     "metadata": {},
     "output_type": "execute_result"
    }
   ],
   "source": [
    "X_train.shape"
   ]
  },
  {
   "cell_type": "code",
   "execution_count": 61,
   "metadata": {},
   "outputs": [],
   "source": [
    "X_train[np.isnan(X_train)] = 0"
   ]
  },
  {
   "cell_type": "code",
   "execution_count": 62,
   "metadata": {},
   "outputs": [
    {
     "data": {
      "text/plain": [
       "(54268, 1)"
      ]
     },
     "execution_count": 62,
     "metadata": {},
     "output_type": "execute_result"
    }
   ],
   "source": [
    "Y_train.shape"
   ]
  },
  {
   "cell_type": "code",
   "execution_count": 63,
   "metadata": {},
   "outputs": [
    {
     "name": "stdout",
     "output_type": "stream",
     "text": [
      "x.shape= (None, 24)\n",
      "model.x = (None, 15, 28)\n",
      "model.y = (None, 1)\n"
     ]
    }
   ],
   "source": [
    "model = compiled_tcn(return_sequences=False,\n",
    "                             num_feat=28,\n",
    "                             nb_filters=24,\n",
    "                             num_classes=0,\n",
    "                             kernel_size=8,\n",
    "                             dilations=[2 ** i for i in range(9)],\n",
    "                             nb_stacks=1,\n",
    "                             max_len=15,\n",
    "                             use_skip_connections=True,\n",
    "                             regression=True,\n",
    "                             dropout_rate=0,\n",
    "                             output_len=1) ##opt adam with lr=0.002 default"
   ]
  },
  {
   "cell_type": "code",
   "execution_count": 65,
   "metadata": {
    "scrolled": true
   },
   "outputs": [
    {
     "name": "stdout",
     "output_type": "stream",
     "text": [
      "Epoch 1/20\n",
      "1086/1086 [==============================] - 152s 140ms/step - loss: 0.0277\n",
      "Epoch 2/20\n",
      "1086/1086 [==============================] - 158s 146ms/step - loss: 0.0239\n",
      "Epoch 3/20\n",
      "1086/1086 [==============================] - 152s 140ms/step - loss: 0.0220\n",
      "Epoch 4/20\n",
      "1086/1086 [==============================] - 155s 142ms/step - loss: 0.0208\n",
      "Epoch 5/20\n",
      "1086/1086 [==============================] - 152s 140ms/step - loss: 0.0203\n",
      "Epoch 6/20\n",
      "1086/1086 [==============================] - 159s 147ms/step - loss: 0.0199\n",
      "Epoch 7/20\n",
      "1086/1086 [==============================] - 159s 146ms/step - loss: 0.0198\n",
      "Epoch 8/20\n",
      "1086/1086 [==============================] - 157s 145ms/step - loss: 0.0196\n",
      "Epoch 9/20\n",
      "1086/1086 [==============================] - 156s 144ms/step - loss: 0.0195\n",
      "Epoch 10/20\n",
      "1086/1086 [==============================] - 157s 144ms/step - loss: 0.0193\n",
      "Epoch 11/20\n",
      "1086/1086 [==============================] - 155s 142ms/step - loss: 0.0193\n",
      "Epoch 12/20\n",
      "1086/1086 [==============================] - 157s 144ms/step - loss: 0.0193\n",
      "Epoch 13/20\n",
      "1086/1086 [==============================] - 159s 146ms/step - loss: 0.0192\n",
      "Epoch 14/20\n",
      "1086/1086 [==============================] - 157s 144ms/step - loss: 0.0190\n",
      "Epoch 15/20\n",
      "1086/1086 [==============================] - 161s 148ms/step - loss: 0.0190\n",
      "Epoch 16/20\n",
      "1086/1086 [==============================] - 162s 149ms/step - loss: 0.0188\n",
      "Epoch 17/20\n",
      "1086/1086 [==============================] - 152s 140ms/step - loss: 0.0188\n",
      "Epoch 18/20\n",
      "1086/1086 [==============================] - 155s 143ms/step - loss: 0.0187\n",
      "Epoch 19/20\n",
      "1086/1086 [==============================] - 167s 154ms/step - loss: 0.0187\n",
      "Epoch 20/20\n",
      "1086/1086 [==============================] - 159s 146ms/step - loss: 0.0186\n"
     ]
    },
    {
     "data": {
      "text/plain": [
       "<tensorflow.python.keras.callbacks.History at 0x1a6f7f1810>"
      ]
     },
     "execution_count": 65,
     "metadata": {},
     "output_type": "execute_result"
    }
   ],
   "source": [
    "model.fit(X_train, Y_train, batch_size=50, epochs=20)"
   ]
  },
  {
   "cell_type": "code",
   "execution_count": 76,
   "metadata": {},
   "outputs": [
    {
     "name": "stdout",
     "output_type": "stream",
     "text": [
      "Epoch 1/10\n",
      "543/543 [==============================] - 160s 295ms/step - loss: 0.0182\n",
      "Epoch 2/10\n",
      "543/543 [==============================] - 161s 297ms/step - loss: 0.0181\n",
      "Epoch 3/10\n",
      "543/543 [==============================] - 172s 316ms/step - loss: 0.0181\n",
      "Epoch 4/10\n",
      "543/543 [==============================] - 161s 297ms/step - loss: 0.0182\n",
      "Epoch 5/10\n",
      "543/543 [==============================] - 176s 324ms/step - loss: 0.0181\n",
      "Epoch 6/10\n",
      "543/543 [==============================] - 173s 319ms/step - loss: 0.0181\n",
      "Epoch 7/10\n",
      "543/543 [==============================] - 161s 297ms/step - loss: 0.0180\n",
      "Epoch 8/10\n",
      "543/543 [==============================] - 167s 307ms/step - loss: 0.0180\n",
      "Epoch 9/10\n",
      "543/543 [==============================] - 158s 290ms/step - loss: 0.0180\n",
      "Epoch 10/10\n",
      "543/543 [==============================] - 158s 291ms/step - loss: 0.0180\n"
     ]
    },
    {
     "data": {
      "text/plain": [
       "<tensorflow.python.keras.callbacks.History at 0x1a4c148510>"
      ]
     },
     "execution_count": 76,
     "metadata": {},
     "output_type": "execute_result"
    }
   ],
   "source": [
    "model.fit(X_train, Y_train, batch_size=100, epochs=10)"
   ]
  },
  {
   "cell_type": "code",
   "execution_count": 77,
   "metadata": {},
   "outputs": [
    {
     "name": "stdout",
     "output_type": "stream",
     "text": [
      "Epoch 1/5\n",
      "272/272 [==============================] - 165s 606ms/step - loss: 0.0176\n",
      "Epoch 2/5\n",
      "272/272 [==============================] - 155s 570ms/step - loss: 0.0176\n",
      "Epoch 3/5\n",
      "272/272 [==============================] - 155s 571ms/step - loss: 0.0176\n",
      "Epoch 4/5\n",
      "272/272 [==============================] - 165s 608ms/step - loss: 0.0175\n",
      "Epoch 5/5\n",
      "272/272 [==============================] - 165s 607ms/step - loss: 0.0175\n"
     ]
    },
    {
     "data": {
      "text/plain": [
       "<tensorflow.python.keras.callbacks.History at 0x1a4c092f50>"
      ]
     },
     "execution_count": 77,
     "metadata": {},
     "output_type": "execute_result"
    }
   ],
   "source": [
    "model.fit(X_train, Y_train, batch_size=200, epochs=5)"
   ]
  },
  {
   "cell_type": "code",
   "execution_count": 78,
   "metadata": {},
   "outputs": [
    {
     "name": "stdout",
     "output_type": "stream",
     "text": [
      "Epoch 1/10\n",
      "272/272 [==============================] - 163s 599ms/step - loss: 0.0176\n",
      "Epoch 2/10\n",
      "272/272 [==============================] - 163s 598ms/step - loss: 0.0175\n",
      "Epoch 3/10\n",
      "272/272 [==============================] - 165s 608ms/step - loss: 0.0175\n",
      "Epoch 4/10\n",
      "272/272 [==============================] - 164s 602ms/step - loss: 0.0174\n",
      "Epoch 5/10\n",
      "272/272 [==============================] - 161s 592ms/step - loss: 0.0175\n",
      "Epoch 6/10\n",
      "272/272 [==============================] - 159s 583ms/step - loss: 0.0175\n",
      "Epoch 7/10\n",
      "272/272 [==============================] - 159s 584ms/step - loss: 0.0174\n",
      "Epoch 8/10\n",
      "272/272 [==============================] - 166s 612ms/step - loss: 0.0174\n",
      "Epoch 9/10\n",
      "272/272 [==============================] - 161s 593ms/step - loss: 0.0174\n",
      "Epoch 10/10\n",
      "272/272 [==============================] - 170s 624ms/step - loss: 0.0173\n"
     ]
    },
    {
     "data": {
      "text/plain": [
       "<tensorflow.python.keras.callbacks.History at 0x1a4c4bc710>"
      ]
     },
     "execution_count": 78,
     "metadata": {},
     "output_type": "execute_result"
    }
   ],
   "source": [
    "model.fit(X_train, Y_train, batch_size=200, epochs=10)"
   ]
  },
  {
   "cell_type": "code",
   "execution_count": 81,
   "metadata": {},
   "outputs": [
    {
     "name": "stdout",
     "output_type": "stream",
     "text": [
      "Epoch 1/10\n",
      "543/543 [==============================] - 164s 302ms/step - loss: 0.0177\n",
      "Epoch 2/10\n",
      "543/543 [==============================] - 164s 301ms/step - loss: 0.0177\n",
      "Epoch 3/10\n",
      "543/543 [==============================] - 161s 296ms/step - loss: 0.0176\n",
      "Epoch 4/10\n",
      "543/543 [==============================] - 169s 311ms/step - loss: 0.0176\n",
      "Epoch 5/10\n",
      "543/543 [==============================] - 162s 298ms/step - loss: 0.0176\n",
      "Epoch 6/10\n",
      "543/543 [==============================] - 165s 303ms/step - loss: 0.0174\n",
      "Epoch 7/10\n",
      "543/543 [==============================] - 163s 301ms/step - loss: 0.0175\n",
      "Epoch 8/10\n",
      "543/543 [==============================] - 162s 298ms/step - loss: 0.0173\n",
      "Epoch 9/10\n",
      "543/543 [==============================] - 164s 302ms/step - loss: 0.0174\n",
      "Epoch 10/10\n",
      "543/543 [==============================] - 166s 306ms/step - loss: 0.0174\n"
     ]
    },
    {
     "data": {
      "text/plain": [
       "<tensorflow.python.keras.callbacks.History at 0x1a4affce10>"
      ]
     },
     "execution_count": 81,
     "metadata": {},
     "output_type": "execute_result"
    }
   ],
   "source": [
    "model.fit(X_train, Y_train, batch_size=100, epochs=10)"
   ]
  },
  {
   "cell_type": "code",
   "execution_count": 79,
   "metadata": {},
   "outputs": [
    {
     "name": "stdout",
     "output_type": "stream",
     "text": [
      "727/727 [==============================] - 18s 25ms/step - loss: 0.0177\n"
     ]
    },
    {
     "data": {
      "text/plain": [
       "0.017671450972557068"
      ]
     },
     "execution_count": 79,
     "metadata": {},
     "output_type": "execute_result"
    }
   ],
   "source": [
    "model.evaluate(X_test, Y_test)"
   ]
  },
  {
   "cell_type": "code",
   "execution_count": 82,
   "metadata": {},
   "outputs": [
    {
     "name": "stdout",
     "output_type": "stream",
     "text": [
      "INFO:tensorflow:Assets written to: /Users/math/Desktop/TCN_foreign_invetsment-master/assets\n"
     ]
    }
   ],
   "source": [
    "model.save(\"/Users/math/Desktop/TCN_foreign_invetsment-master\")"
   ]
  },
  {
   "cell_type": "code",
   "execution_count": null,
   "metadata": {},
   "outputs": [],
   "source": []
  }
 ],
 "metadata": {
  "kernelspec": {
   "display_name": "Python 3",
   "language": "python",
   "name": "python3"
  },
  "language_info": {
   "codemirror_mode": {
    "name": "ipython",
    "version": 3
   },
   "file_extension": ".py",
   "mimetype": "text/x-python",
   "name": "python",
   "nbconvert_exporter": "python",
   "pygments_lexer": "ipython3",
   "version": "3.7.6"
  }
 },
 "nbformat": 4,
 "nbformat_minor": 4
}
